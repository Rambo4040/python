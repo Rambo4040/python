{
 "cells": [
  {
   "cell_type": "code",
   "execution_count": 2,
   "id": "3d5858f8-e6cf-483f-9b2d-ffeb5d7336b9",
   "metadata": {},
   "outputs": [
    {
     "name": "stdin",
     "output_type": "stream",
     "text": [
      "Enter a sentence :  Car safety systems have come a long way, but he was out to prove they could be outsmarted.\n"
     ]
    },
    {
     "name": "stdout",
     "output_type": "stream",
     "text": [
      "count of vowels are:\n",
      "a: 7\n",
      "e: 9\n",
      "i: 0\n",
      "o: 7\n",
      "u: 4\n"
     ]
    }
   ],
   "source": [
    "string = input(\"Enter a sentence : \")\n",
    "string.lower()\n",
    "acount=0\n",
    "ecount=0\n",
    "icount=0\n",
    "ocount=0\n",
    "ucount=0\n",
    "for i in string:\n",
    "    if(i == 'a'):\n",
    "        acount = acount + 1\n",
    "    if(i == 'e'):\n",
    "        ecount = ecount + 1\n",
    "    if(i == 'i'):\n",
    "        icount = icount + 1\n",
    "    if(i == 'o'):\n",
    "        ocount = ocount + 1\n",
    "    if(i == 'u'):\n",
    "        ucount = ucount + 1\n",
    "print(\"count of vowels are:\")\n",
    "print(\"a:\",acount)\n",
    "print(\"e:\",ecount)\n",
    "print(\"i:\",icount)\n",
    "print(\"o:\",ocount)\n",
    "print(\"u:\",ucount)"
   ]
  },
  {
   "cell_type": "code",
   "execution_count": null,
   "id": "9c79b3b0-1b96-4cfc-a271-bd781a2f45da",
   "metadata": {},
   "outputs": [],
   "source": []
  }
 ],
 "metadata": {
  "kernelspec": {
   "display_name": "Python 3 (ipykernel)",
   "language": "python",
   "name": "python3"
  },
  "language_info": {
   "codemirror_mode": {
    "name": "ipython",
    "version": 3
   },
   "file_extension": ".py",
   "mimetype": "text/x-python",
   "name": "python",
   "nbconvert_exporter": "python",
   "pygments_lexer": "ipython3",
   "version": "3.11.7"
  }
 },
 "nbformat": 4,
 "nbformat_minor": 5
}
